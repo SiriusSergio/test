{
 "cells": [
  {
   "cell_type": "markdown",
   "id": "1d007eb4",
   "metadata": {
    "toc": true
   },
   "source": [
    "<h1>Table of Contents<span class=\"tocSkip\"></span></h1>\n",
    "<div class=\"toc\"><ul class=\"toc-item\"></ul></div>"
   ]
  },
  {
   "cell_type": "markdown",
   "id": "a3d2ffd9",
   "metadata": {},
   "source": [
    "# Тестовое задание 3: Найти причину отсутствия заявок.\n",
    "\n",
    "Исследуйте просмотры страниц сайта (см. файлы).\n",
    "Предположите причину отсутствия заявок с сайта в период с 21 по 25 ноября.\n",
    "\n",
    "Описание данных и проекта:\n",
    "- Данные основаны на выгрузке из Яндекс Метрика Logs API.\n",
    "- Цель \"1234\" - это цель \"Заявка с сайта\".\n",
    "- Сайт застройщика продаёт квартиры в новостройке.\n",
    "    - Страница \"/mortgage\" - это страница с описанием вариантов ипотеки.\n",
    "    - Страница \"/search\" - это страница выбора квартир.\n",
    "    - Страницы \"/search?x=y\" - это страница выбора квартир, когда пользователь выбрал какие-то параметры.\n",
    "    - Страницы \"/search/room-3k-XXX\" - это страницы с подробным описанием квартир.\n",
    "    - Страница \"/other\" - это какие-то другие страницы."
   ]
  },
  {
   "cell_type": "markdown",
   "id": "693a196f",
   "metadata": {},
   "source": [
    " <a id='plan'></a>\n",
    "\n",
    "План исследования:\n",
    "1. [Загрузить и подготовить данные](#load)\n",
    "2. [Провести исследовательский анализ](#eda)\n",
    "3. [Выдвинуть и проверить гипотезы](#hypotheses)\n",
    "4. [Сделать выводы и дать рекомендации](#conclusion)"
   ]
  },
  {
   "cell_type": "markdown",
   "id": "c1c67244",
   "metadata": {},
   "source": [
    " <a id='load'></a>\n",
    "# Загрузим и изучим данные"
   ]
  },
  {
   "cell_type": "code",
   "execution_count": 1,
   "id": "a4678fa5",
   "metadata": {},
   "outputs": [],
   "source": [
    "# импорт библиотек\n",
    "import pandas as pd"
   ]
  },
  {
   "cell_type": "code",
   "execution_count": 2,
   "id": "d9fffd04",
   "metadata": {},
   "outputs": [],
   "source": [
    "# запись файловых путей\n",
    "visits_path = '/Users/sergio/Downloads/'\n",
    "hits_path = '/Users/sergio/Downloads/'"
   ]
  },
  {
   "cell_type": "code",
   "execution_count": 3,
   "id": "71423ae2",
   "metadata": {},
   "outputs": [],
   "source": [
    "# чтение файлов\n",
    "visits_data = pd.read_excel(visits_path + 'test__visits.xlsx')\n",
    "hits_data = pd.read_excel(hits_path + 'test__hits.xlsx')\n"
   ]
  },
  {
   "cell_type": "code",
   "execution_count": 4,
   "id": "ebf09168",
   "metadata": {},
   "outputs": [
    {
     "data": {
      "text/html": [
       "<div>\n",
       "<style scoped>\n",
       "    .dataframe tbody tr th:only-of-type {\n",
       "        vertical-align: middle;\n",
       "    }\n",
       "\n",
       "    .dataframe tbody tr th {\n",
       "        vertical-align: top;\n",
       "    }\n",
       "\n",
       "    .dataframe thead th {\n",
       "        text-align: right;\n",
       "    }\n",
       "</style>\n",
       "<table border=\"1\" class=\"dataframe\">\n",
       "  <thead>\n",
       "    <tr style=\"text-align: right;\">\n",
       "      <th></th>\n",
       "      <th>ym:s:visitID</th>\n",
       "      <th>ym:s:goalsID</th>\n",
       "    </tr>\n",
       "  </thead>\n",
       "  <tbody>\n",
       "    <tr>\n",
       "      <th>136390</th>\n",
       "      <td>6982174062365900800</td>\n",
       "      <td>[]</td>\n",
       "    </tr>\n",
       "    <tr>\n",
       "      <th>7605</th>\n",
       "      <td>6696415679393038336</td>\n",
       "      <td>[]</td>\n",
       "    </tr>\n",
       "    <tr>\n",
       "      <th>11051</th>\n",
       "      <td>6581442652040593408</td>\n",
       "      <td>[]</td>\n",
       "    </tr>\n",
       "    <tr>\n",
       "      <th>62568</th>\n",
       "      <td>6715793458114592768</td>\n",
       "      <td>[]</td>\n",
       "    </tr>\n",
       "    <tr>\n",
       "      <th>64725</th>\n",
       "      <td>6718655607826546688</td>\n",
       "      <td>[]</td>\n",
       "    </tr>\n",
       "  </tbody>\n",
       "</table>\n",
       "</div>"
      ],
      "text/plain": [
       "               ym:s:visitID ym:s:goalsID\n",
       "136390  6982174062365900800           []\n",
       "7605    6696415679393038336           []\n",
       "11051   6581442652040593408           []\n",
       "62568   6715793458114592768           []\n",
       "64725   6718655607826546688           []"
      ]
     },
     "execution_count": 4,
     "metadata": {},
     "output_type": "execute_result"
    }
   ],
   "source": [
    "# таблица пользователей\n",
    "visits_data.sample(5)"
   ]
  },
  {
   "cell_type": "code",
   "execution_count": 5,
   "id": "9306acc4",
   "metadata": {},
   "outputs": [
    {
     "name": "stdout",
     "output_type": "stream",
     "text": [
      "<class 'pandas.core.frame.DataFrame'>\n",
      "RangeIndex: 193016 entries, 0 to 193015\n",
      "Data columns (total 2 columns):\n",
      " #   Column        Non-Null Count   Dtype \n",
      "---  ------        --------------   ----- \n",
      " 0   ym:s:visitID  193016 non-null  int64 \n",
      " 1   ym:s:goalsID  193016 non-null  object\n",
      "dtypes: int64(1), object(1)\n",
      "memory usage: 2.9+ MB\n"
     ]
    }
   ],
   "source": [
    "# сводная ифнормация таблицы пользователей\n",
    "visits_data.info()"
   ]
  },
  {
   "cell_type": "code",
   "execution_count": 6,
   "id": "70b82ca2",
   "metadata": {},
   "outputs": [],
   "source": [
    "# переименуем столбцы для удобства\n",
    "visits_data.columns = ['visit_id', 'goal_id']"
   ]
  },
  {
   "cell_type": "code",
   "execution_count": 7,
   "id": "87661dd9",
   "metadata": {},
   "outputs": [
    {
     "data": {
      "text/html": [
       "<div>\n",
       "<style scoped>\n",
       "    .dataframe tbody tr th:only-of-type {\n",
       "        vertical-align: middle;\n",
       "    }\n",
       "\n",
       "    .dataframe tbody tr th {\n",
       "        vertical-align: top;\n",
       "    }\n",
       "\n",
       "    .dataframe thead th {\n",
       "        text-align: right;\n",
       "    }\n",
       "</style>\n",
       "<table border=\"1\" class=\"dataframe\">\n",
       "  <thead>\n",
       "    <tr style=\"text-align: right;\">\n",
       "      <th></th>\n",
       "      <th>ym:s:visitID</th>\n",
       "      <th>ym:pv:watchID</th>\n",
       "      <th>ym:pv:counterUserIDHash</th>\n",
       "      <th>ym:pv:date</th>\n",
       "      <th>ym:pv:dateTime</th>\n",
       "      <th>ym:pv:URL</th>\n",
       "      <th>ym:pv:referer</th>\n",
       "    </tr>\n",
       "  </thead>\n",
       "  <tbody>\n",
       "    <tr>\n",
       "      <th>0</th>\n",
       "      <td>6560323411888570368</td>\n",
       "      <td>6560323843815112704</td>\n",
       "      <td>5962304341763423232</td>\n",
       "      <td>2024-11-04</td>\n",
       "      <td>2024-11-04 18:34:09</td>\n",
       "      <td>test.test/</td>\n",
       "      <td>test.test/</td>\n",
       "    </tr>\n",
       "    <tr>\n",
       "      <th>1</th>\n",
       "      <td>6560323411888570368</td>\n",
       "      <td>6560323844096655360</td>\n",
       "      <td>5962304341763423232</td>\n",
       "      <td>2024-11-04</td>\n",
       "      <td>2024-11-04 18:34:09</td>\n",
       "      <td>test.test/</td>\n",
       "      <td>test.test/</td>\n",
       "    </tr>\n",
       "    <tr>\n",
       "      <th>2</th>\n",
       "      <td>6560325594846330880</td>\n",
       "      <td>6560325594846330880</td>\n",
       "      <td>7277754749516948480</td>\n",
       "      <td>2024-11-04</td>\n",
       "      <td>2024-11-04 18:34:16</td>\n",
       "      <td>test.test/</td>\n",
       "      <td>NaN</td>\n",
       "    </tr>\n",
       "    <tr>\n",
       "      <th>3</th>\n",
       "      <td>6560325594846330880</td>\n",
       "      <td>6560326270037786624</td>\n",
       "      <td>7277754749516948480</td>\n",
       "      <td>2024-11-04</td>\n",
       "      <td>2024-11-04 18:34:17</td>\n",
       "      <td>test.test/</td>\n",
       "      <td>test.test/</td>\n",
       "    </tr>\n",
       "    <tr>\n",
       "      <th>4</th>\n",
       "      <td>6560325594846330880</td>\n",
       "      <td>6560326270366515200</td>\n",
       "      <td>7277754749516948480</td>\n",
       "      <td>2024-11-04</td>\n",
       "      <td>2024-11-04 18:34:17</td>\n",
       "      <td>test.test/</td>\n",
       "      <td>test.test/</td>\n",
       "    </tr>\n",
       "  </tbody>\n",
       "</table>\n",
       "</div>"
      ],
      "text/plain": [
       "          ym:s:visitID        ym:pv:watchID  ym:pv:counterUserIDHash  \\\n",
       "0  6560323411888570368  6560323843815112704      5962304341763423232   \n",
       "1  6560323411888570368  6560323844096655360      5962304341763423232   \n",
       "2  6560325594846330880  6560325594846330880      7277754749516948480   \n",
       "3  6560325594846330880  6560326270037786624      7277754749516948480   \n",
       "4  6560325594846330880  6560326270366515200      7277754749516948480   \n",
       "\n",
       "  ym:pv:date      ym:pv:dateTime   ym:pv:URL ym:pv:referer  \n",
       "0 2024-11-04 2024-11-04 18:34:09  test.test/    test.test/  \n",
       "1 2024-11-04 2024-11-04 18:34:09  test.test/    test.test/  \n",
       "2 2024-11-04 2024-11-04 18:34:16  test.test/           NaN  \n",
       "3 2024-11-04 2024-11-04 18:34:17  test.test/    test.test/  \n",
       "4 2024-11-04 2024-11-04 18:34:17  test.test/    test.test/  "
      ]
     },
     "execution_count": 7,
     "metadata": {},
     "output_type": "execute_result"
    }
   ],
   "source": [
    "# таблица логов событий сайта\n",
    "hits_data.head()"
   ]
  },
  {
   "cell_type": "code",
   "execution_count": 8,
   "id": "98fa3bf8",
   "metadata": {},
   "outputs": [
    {
     "name": "stdout",
     "output_type": "stream",
     "text": [
      "<class 'pandas.core.frame.DataFrame'>\n",
      "RangeIndex: 423317 entries, 0 to 423316\n",
      "Data columns (total 7 columns):\n",
      " #   Column                   Non-Null Count   Dtype         \n",
      "---  ------                   --------------   -----         \n",
      " 0   ym:s:visitID             423317 non-null  int64         \n",
      " 1   ym:pv:watchID            423317 non-null  int64         \n",
      " 2   ym:pv:counterUserIDHash  423317 non-null  uint64        \n",
      " 3   ym:pv:date               423317 non-null  datetime64[ns]\n",
      " 4   ym:pv:dateTime           423317 non-null  datetime64[ns]\n",
      " 5   ym:pv:URL                423317 non-null  object        \n",
      " 6   ym:pv:referer            286290 non-null  object        \n",
      "dtypes: datetime64[ns](2), int64(2), object(2), uint64(1)\n",
      "memory usage: 22.6+ MB\n"
     ]
    }
   ],
   "source": [
    "# сводная ифнормация логов событий сайта\n",
    "hits_data.info()"
   ]
  },
  {
   "cell_type": "code",
   "execution_count": 9,
   "id": "aeb4df18",
   "metadata": {},
   "outputs": [],
   "source": [
    "# переименуем столбцы для удобства\n",
    "columns = ['visit_id', 'watch_id', 'user_hash_id', 'date', 'date_time', 'url', 'referer']\n",
    "hits_data.columns=columns"
   ]
  },
  {
   "cell_type": "markdown",
   "id": "c48fd67c",
   "metadata": {},
   "source": [
    "[Вернуться к плану](#plan)"
   ]
  },
  {
   "cell_type": "markdown",
   "id": "170e4dfc",
   "metadata": {},
   "source": [
    " <a id='eda'></a>\n",
    "# Проведем исследовательский анализ"
   ]
  },
  {
   "cell_type": "code",
   "execution_count": 10,
   "id": "ad8101e3",
   "metadata": {},
   "outputs": [
    {
     "data": {
      "text/plain": [
       "0"
      ]
     },
     "execution_count": 10,
     "metadata": {},
     "output_type": "execute_result"
    }
   ],
   "source": [
    "# определим целевые даты\n",
    "start_date = '2024-11-21'\n",
    "end_date = '2024-11-25'\n",
    "\n",
    "# отфильтруем данные\n",
    "hits_filtered = hits_data[(hits_data['date'] >= start_date) & (hits_data['date'] <= end_date)]\n",
    "visits_filtered = visits_data[visits_data['visit_id'].isin(hits_filtered['visit_id'])]\n",
    "\n",
    "# проверим сколько раз совершено целевое действие\n",
    "goal_id = \"1234\"\n",
    "goal_counts = visits_filtered['goal_id'].apply(lambda x: goal_id in x).sum()\n",
    "\n",
    "goal_counts"
   ]
  },
  {
   "cell_type": "markdown",
   "id": "c7bc2403",
   "metadata": {},
   "source": [
    "По условию задачи целевое действие не было произведено, что мы только что подтвердили"
   ]
  },
  {
   "cell_type": "code",
   "execution_count": 11,
   "id": "0ff1f14f",
   "metadata": {},
   "outputs": [
    {
     "data": {
      "text/plain": [
       "url\n",
       "test.test/                         27423\n",
       "test.test/search/                  18598\n",
       "test.test/search/?x=y               5347\n",
       "test.test/other                     2920\n",
       "test.test/project/                  2487\n",
       "test.test/search/?x=y&rooms=3к      1730\n",
       "test.test/search/?x=y&rooms=2к      1679\n",
       "test.test/search/room-2kom-XXX/     1268\n",
       "test.test/search/room-3kom-XXX/     1221\n",
       "test.test/mortgage/                  517\n",
       "test.test/contacts/                  130\n",
       "Name: count, dtype: int64"
      ]
     },
     "execution_count": 11,
     "metadata": {},
     "output_type": "execute_result"
    }
   ],
   "source": [
    "# посмотрим сколько раз какие страныцы открывали\n",
    "hits_filtered['url'].value_counts()"
   ]
  },
  {
   "cell_type": "markdown",
   "id": "36ac80e8",
   "metadata": {},
   "source": [
    "[Вернуться к плану](#plan)"
   ]
  },
  {
   "cell_type": "markdown",
   "id": "2d08f9b7",
   "metadata": {},
   "source": [
    " <a id='hypotheses'></a>\n",
    "# Выдвинем и проверим гипотезы"
   ]
  },
  {
   "cell_type": "markdown",
   "id": "0bc15447",
   "metadata": {},
   "source": [
    "**Первая гипотеза: пользователи не оставляли заявки, потому что не доходили до страницы с контактами.**\n",
    "\n",
    "130 посещений за 5 дней, при условии, что на другие страницы заходили. \n",
    "\n",
    "Проверим сколько заходили на страницы, которые потенциально могли привести к заявке: просмотр квартиры и условий ипотеки "
   ]
  },
  {
   "cell_type": "markdown",
   "id": "86a3fbb3",
   "metadata": {},
   "source": [
    "Посетителей страниц **/mortgage и /search/room...** будем считать уникальных, осальные страницы нам не так интересны, потому что они не дают точного понимания, что пользователь ознакомился с информацией о квартире или ипотеке. "
   ]
  },
  {
   "cell_type": "code",
   "execution_count": 12,
   "id": "99a563db",
   "metadata": {},
   "outputs": [],
   "source": [
    "# фильтруем визиты по искомым признакам\n",
    "mortgage_visits = hits_filtered[hits_filtered['url'].str.contains('/mortgage')]\n",
    "\n",
    "room_visits = hits_filtered[hits_filtered['url'].str.contains('/search/room')]\n"
   ]
  },
  {
   "cell_type": "code",
   "execution_count": 13,
   "id": "c9630328",
   "metadata": {},
   "outputs": [
    {
     "data": {
      "text/plain": [
       "0.21"
      ]
     },
     "execution_count": 13,
     "metadata": {},
     "output_type": "execute_result"
    }
   ],
   "source": [
    "# считаем все заходы на страницу контактов\n",
    "contacts_visits = hits_filtered[hits_filtered['url'].str.contains('/contacts')]\n",
    "\n",
    "# считаем все заходы на сайт\n",
    "total_visits = hits_filtered[~hits_filtered['url'].str.contains('/contacts')]\n",
    "\n",
    "# конверсия в переход на страницу контактов из всех заходов на сайт\n",
    "round(len(contacts_visits) / len(total_visits) * 100, 2)"
   ]
  },
  {
   "cell_type": "code",
   "execution_count": 14,
   "id": "2356e656",
   "metadata": {},
   "outputs": [
    {
     "data": {
      "text/plain": [
       "10.22"
      ]
     },
     "execution_count": 14,
     "metadata": {},
     "output_type": "execute_result"
    }
   ],
   "source": [
    "# считаем длину заходов на страницу с информацией об ипотеке\n",
    "unique_mortgage_visits = len(mortgage_visits['visit_id'].unique())\n",
    "\n",
    "# считаем длину заходов на страницу с подробной информацией о квартирах\n",
    "unique_room_visits = len(room_visits['visit_id'].unique())\n",
    "\n",
    "# конверсия в переход на страницу контактов из всех заинтересованных пользователей\n",
    "round((unique_mortgage_visits + unique_room_visits) / len(contacts_visits), 2)"
   ]
  },
  {
   "cell_type": "markdown",
   "id": "b9814954",
   "metadata": {},
   "source": [
    "Конверсия со всех заходов очень маленькая - всего 0.21%, однако конверсия потенициально заинтересованных пользователей 10%. Возможно, люди приходили и не могли пройти на этап дальше по техническим проблемам. \n",
    "\n",
    "**Рекомендация обратить внимание на тех. обслуживание сайта и поддержку работоспособности, а также высоконагруженности**"
   ]
  },
  {
   "cell_type": "markdown",
   "id": "b26cf6c4",
   "metadata": {},
   "source": [
    "Еще одна гипотеза - проверить с каких страниц пользователи приходили на страницу с контактами."
   ]
  },
  {
   "cell_type": "code",
   "execution_count": 15,
   "id": "226c317e",
   "metadata": {},
   "outputs": [
    {
     "data": {
      "text/plain": [
       "referer\n",
       "test.test/               34\n",
       "test.test/contacts/      31\n",
       "yyy.xx                   30\n",
       "test.test/search/?x=y     9\n",
       "test.test/project/        7\n",
       "test.test/search/         5\n",
       "test.test/other           3\n",
       "Name: count, dtype: int64"
      ]
     },
     "execution_count": 15,
     "metadata": {},
     "output_type": "execute_result"
    }
   ],
   "source": [
    "contacts_visits['referer'].value_counts()"
   ]
  },
  {
   "cell_type": "markdown",
   "id": "0ebe21da",
   "metadata": {},
   "source": [
    "Всего 9 человек пришло со страницы фильтра квартир и 31 пользователь пришел с этой же страницы с контактами. \n",
    "\n",
    "Возможно, на страницах с информацией об ипотеке и на страницах с подробной информацией о квартирах просто не было кнопки-перехода на страницу контактов, чтобы пользователь смог подать заявку. Возможно, по технической причине. После обновления сайта или выкатывания нового куска кода. \n",
    "\n",
    "**Рекомендация: проверять что все кнопки для целевых дейсвтий всегда на сайта и работают**"
   ]
  },
  {
   "cell_type": "markdown",
   "id": "808934af",
   "metadata": {},
   "source": [
    "[Вернуться к плану](#plan)"
   ]
  },
  {
   "cell_type": "markdown",
   "id": "c9f42e70",
   "metadata": {},
   "source": [
    " <a id='conclusion'></a>\n",
    "# Выводы и рекомендации"
   ]
  },
  {
   "cell_type": "markdown",
   "id": "59ba0173",
   "metadata": {},
   "source": [
    "Конверсия со всех заходов остаётся крайне низкой, однако среди потенциально заинтересованных пользователей она достигает 10%. Это может свидетельствовать о технических проблемах, мешающих пользователям пройти дальше по воронке.\n",
    "\n",
    "**Рекомендация: уделить внимание техническому обслуживанию сайта, включая мониторинг его работоспособности и адаптацию к высоким нагрузкам.**\n",
    "\n",
    "Анализ источников трафика показывает, что всего 9 человек перешли со страницы фильтра квартир, тогда как 31 пользователь попал на страницу с контактами с того же источника.\n",
    "\n",
    "Это может указывать на отсутствие кнопки или другого элемента для перехода на страницу контактов на страницах с информацией об ипотеке или подробностями о квартирах. Возможной причиной могло быть техническое упущение — например, ошибки при выкладке обновлений сайта или нового функционала.\n",
    "\n",
    "**Рекомендация: регулярно проверять наличие и корректную работу всех кнопок и элементов, необходимых для совершения целевых действий на сайте.**"
   ]
  },
  {
   "cell_type": "markdown",
   "id": "b11fba23",
   "metadata": {},
   "source": [
    "[Вернуться к плану](#plan)"
   ]
  }
 ],
 "metadata": {
  "kernelspec": {
   "display_name": "Python 3 (ipykernel)",
   "language": "python",
   "name": "python3"
  },
  "language_info": {
   "codemirror_mode": {
    "name": "ipython",
    "version": 3
   },
   "file_extension": ".py",
   "mimetype": "text/x-python",
   "name": "python",
   "nbconvert_exporter": "python",
   "pygments_lexer": "ipython3",
   "version": "3.11.5"
  },
  "toc": {
   "base_numbering": 1,
   "nav_menu": {},
   "number_sections": true,
   "sideBar": true,
   "skip_h1_title": false,
   "title_cell": "Table of Contents",
   "title_sidebar": "Contents",
   "toc_cell": false,
   "toc_position": {
    "height": "calc(100% - 180px)",
    "left": "10px",
    "top": "150px",
    "width": "288px"
   },
   "toc_section_display": true,
   "toc_window_display": false
  }
 },
 "nbformat": 4,
 "nbformat_minor": 5
}
